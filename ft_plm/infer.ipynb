{
 "cells": [
  {
   "cell_type": "code",
   "execution_count": null,
   "metadata": {},
   "outputs": [
    {
     "ename": "",
     "evalue": "",
     "output_type": "error",
     "traceback": [
      "\u001b[1;31mFailed to start the Kernel. \n",
      "\u001b[1;31mAttributeError: partially initialized module 'inspect' has no attribute 'isclass' (most likely due to a circular import). \n",
      "\u001b[1;31mView Jupyter <a href='command:jupyter.viewOutput'>log</a> for further details."
     ]
    }
   ],
   "source": [
    "import os\n",
    "import torch\n",
    "os.environ[\"CUDA_VISIBLE_DEVICES\"]=\"3\"\n",
    "from transformers import AutoTokenizer,AutoModelForMaskedLM\n",
    "tokenizer = AutoTokenizer.from_pretrained(\"/pubhome/xtzhang/output_ftplm/checkpoint-71920\")\n",
    "model = AutoModelForMaskedLM.from_pretrained(\"/pubhome/xtzhang/output_ftplm/checkpoint-71920\")\n",
    "# tokenizer = AutoTokenizer.from_pretrained(\"facebook/esm2_t36_3B_UR50D\")\n",
    "# model = AutoModelForMaskedLM.from_pretrained(\"facebook/esm2_t36_3B_UR50D\")\n",
    "softmax=torch.nn.Softmax(dim=-1)\n"
   ]
  }
 ],
 "metadata": {
  "kernelspec": {
   "display_name": "protein_predict",
   "language": "python",
   "name": "python3"
  },
  "language_info": {
   "name": "python",
   "version": "3.8.15"
  },
  "orig_nbformat": 4
 },
 "nbformat": 4,
 "nbformat_minor": 2
}
